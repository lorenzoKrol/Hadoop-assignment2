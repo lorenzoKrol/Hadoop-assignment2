{
 "cells": [
  {
   "cell_type": "markdown",
   "id": "badfcdf1-b01d-4a39-b741-0578d79b8e08",
   "metadata": {},
   "source": [
    "all imports"
   ]
  },
  {
   "cell_type": "code",
   "execution_count": null,
   "id": "f6689155-b894-4a38-aa88-1dad44292fd5",
   "metadata": {},
   "outputs": [],
   "source": [
    "try:\n",
    "    import seaborn as sns\n",
    "    print('seaborn already installed, only imported')\n",
    "except:\n",
    "    !pip install seaborn\n",
    "    import seaborn as sb\n",
    "    print('seaborn was not installed, installed and imported') \n",
    "    \n",
    "# pyplot as plt\n",
    "try:\n",
    "    import matplotlib.pyplot as plt\n",
    "    print('PyPlot already installed, only imported')\n",
    "except:\n",
    "    !pip install matplotlib\n",
    "    import matplotlib.pyplot as plt\n",
    "    print('PyPlot was not installed, installed and imported')\n",
    "# numpy as np\n",
    "try:\n",
    "    import numpy as np\n",
    "    print('NumPy already installed, only imported')\n",
    "except:\n",
    "    !pip install numpy\n",
    "    import numpy as np\n",
    "    print('NumPy was not installed, installed and imported')\n",
    "# sklearn\n",
    "try:\n",
    "    from sklearn.datasets import load_breast_cancer\n",
    "    from sklearn.model_selection import train_test_split\n",
    "    from sklearn.compose import ColumnTransformer\n",
    "    from sklearn.preprocessing import StandardScaler, OneHotEncoder\n",
    "    from sklearn.pipeline import Pipeline\n",
    "    from sklearn.svm import SVC\n",
    "    from sklearn.feature_selection import SelectKBest, chi2, mutual_info_classif, f_classif\n",
    "    from sklearn.metrics import confusion_matrix\n",
    "    from sklearn.preprocessing import FunctionTransformer\n",
    "    from sklearn.preprocessing import KBinsDiscretizer\n",
    "    print('sklearn already installed, only imported')\n",
    "except:\n",
    "    !pip install sklearn\n",
    "    from sklearn.datasets import load_breast_cancer\n",
    "    from sklearn.model_selection import train_test_split\n",
    "    from sklearn.compose import ColumnTransformer\n",
    "    from sklearn.preprocessing import StandardScaler, OneHotEncoder\n",
    "    from sklearn.pipeline import Pipeline\n",
    "    from sklearn.svm import SVC\n",
    "    from sklearn.feature_selection import SelectKBest, chi2, mutual_info_classif, f_classif\n",
    "    from sklearn.metrics import confusion_matrix\n",
    "    from sklearn.preprocessing import FunctionTransformer\n",
    "    from sklearn.preprocessing import KBinsDiscretizer\n",
    "    print('sklearn was not installed, installed and imported')  \n"
   ]
  },
  {
   "cell_type": "markdown",
   "id": "f5c781a3-1203-4e98-a6b6-a64d390542f6",
   "metadata": {},
   "source": [
    "Load dataset"
   ]
  },
  {
   "cell_type": "code",
   "execution_count": null,
   "id": "4667444b-bf8a-4d21-a1be-03ebf78572d7",
   "metadata": {},
   "outputs": [],
   "source": [
    "data = load_breast_cancer()\n",
    "X, y = data.data, data.target\n",
    "\n",
    "labels = data.target_names\n",
    "k = len(labels)"
   ]
  },
  {
   "cell_type": "code",
   "execution_count": null,
   "id": "bbe4678c-0dae-4356-ab67-5fa46bc9eb19",
   "metadata": {},
   "outputs": [],
   "source": [
    "print(data.DESCR) "
   ]
  },
  {
   "cell_type": "markdown",
   "id": "ed015ac2-ea2a-40bb-9bba-ee8a113550a7",
   "metadata": {},
   "source": [
    "PreProcess data"
   ]
  },
  {
   "cell_type": "code",
   "execution_count": null,
   "id": "abbf055a-e1de-41b7-9b4f-21763e043f0b",
   "metadata": {},
   "outputs": [],
   "source": [
    "# Define the transformers for numeric features\n",
    "numeric_features = [i for i, dtype in enumerate(data.feature_names)]\n",
    "numeric_transformer = Pipeline(\n",
    "        steps=[(\"scaler\",StandardScaler()),('binning', KBinsDiscretizer(n_bins=4, encode='ordinal', strategy='uniform')),\n",
    "])"
   ]
  },
  {
   "cell_type": "code",
   "execution_count": null,
   "id": "8371c658-38ee-42fc-be90-6658254f6163",
   "metadata": {},
   "outputs": [],
   "source": [
    "# Create the column transformer\n",
    "preprocessor = ColumnTransformer(\n",
    "    transformers=[\n",
    "        ('numeric', numeric_transformer, numeric_features)])"
   ]
  },
  {
   "cell_type": "markdown",
   "id": "b3f601c2-2f62-4198-8e7b-be5df828e3c9",
   "metadata": {},
   "source": [
    "Create new features"
   ]
  },
  {
   "cell_type": "code",
   "execution_count": null,
   "id": "e0d964ab-e65d-434b-b853-6a1148101bd0",
   "metadata": {},
   "outputs": [],
   "source": [
    "def create_new_features(X):\n",
    "    X.shape\n",
    "    mean_radius_idx = 0  # the index of 'mean radius'\n",
    "    mean_diameter = X[:, mean_radius_idx] * 2\n",
    "    X = np.column_stack((X, mean_diameter))\n",
    "    mean_symmetry_idx = 8\n",
    "    worst_symmetry_idx = 28\n",
    "    symmetry_difference = X[:, worst_symmetry_idx] - X[:,mean_symmetry_idx]\n",
    "    X = np.column_stack((X, symmetry_difference))\n",
    "    return X"
   ]
  },
  {
   "cell_type": "markdown",
   "id": "44077c5a-88dc-4ff1-9653-2d902db8f29b",
   "metadata": {},
   "source": [
    "make a prediction"
   ]
  },
  {
   "cell_type": "code",
   "execution_count": null,
   "id": "d588620d-674d-4bce-8b28-3ca5b7a66dea",
   "metadata": {},
   "outputs": [],
   "source": [
    "print(labels)"
   ]
  },
  {
   "cell_type": "code",
   "execution_count": null,
   "id": "7bdb7081-3f92-4fdb-b9a4-a34afdb8bf35",
   "metadata": {},
   "outputs": [],
   "source": [
    "# Split the dataset into train and test sets\n",
    "X_train, X_test, y_train, y_test = train_test_split(X, y, test_size=0.2, random_state=42)\n",
    "\n",
    "\n",
    "# Create a pipeline with a scaler and an SVM classifier\n",
    "pipeline = Pipeline([\n",
    "    ('feature_engineering', FunctionTransformer(create_new_features)),\n",
    "    ('preprocessor', preprocessor),\n",
    "    ('classifier', SVC())\n",
    "])\n",
    "\n",
    "# Fit the pipeline to the training data\n",
    "pipeline.fit(X_train, y_train)\n",
    "y_pred = pipeline.predict(X_test[:1])\n",
    "print(y_pred)"
   ]
  },
  {
   "cell_type": "markdown",
   "id": "6d545e09-fe30-46da-9f04-fa572e327652",
   "metadata": {},
   "source": [
    "Top 10 features according to 3 different measures of predictiveness"
   ]
  },
  {
   "cell_type": "code",
   "execution_count": null,
   "id": "c359dc3e-8875-4bcf-8c48-db2225ad7116",
   "metadata": {},
   "outputs": [],
   "source": [
    "# Define a function to create the pipeline with feature selection\n",
    "def create_feature_selection_pipeline(selector):\n",
    "    return Pipeline([\n",
    "        ('feature_selection', selector),\n",
    "        ('classifier', SVC())\n",
    "    ])\n",
    "\n",
    "# Create SelectKBest instances for different measures\n",
    "kbest_chi2 = SelectKBest(score_func=chi2, k=10)\n",
    "kbest_mi = SelectKBest(score_func=mutual_info_classif, k=10)\n",
    "kbest_f_classif = SelectKBest(score_func=f_classif, k=10)\n",
    "\n",
    "# Create pipelines with feature selection and classifier\n",
    "pipeline_chi2 = create_feature_selection_pipeline(kbest_chi2)\n",
    "pipeline_mi = create_feature_selection_pipeline(kbest_mi)\n",
    "pipeline_f_classif = create_feature_selection_pipeline(kbest_f_classif)\n",
    "\n",
    "\n",
    "# Fit the pipelines to the data\n",
    "pipeline_chi2.fit(X, y)\n",
    "pipeline_mi.fit(X, y)\n",
    "pipeline_f_classif.fit(X, y)\n",
    "\n",
    "# Get the indices of the top 10 features for each measure\n",
    "indices_chi2 = kbest_chi2.get_support(indices=True)\n",
    "indices_mi = kbest_mi.get_support(indices=True)\n",
    "indices_f_classif = kbest_f_classif.get_support(indices=True)\n",
    "# Get the feature names\n",
    "feature_names = data.feature_names\n",
    "\n",
    "# Print the top 10 features for each measure\n",
    "print(\"Top 10 features according to chi-square:\")\n",
    "for idx in indices_chi2:\n",
    "    print(feature_names[idx])\n",
    "\n",
    "print(\"Top 10 features according to mutual information:\")\n",
    "for idx in indices_mi:\n",
    "    print(feature_names[idx])\n",
    "\n",
    "print(\"Top 10 features according to f_classif:\")\n",
    "for idx in indices_f_classif:\n",
    "    print(feature_names[idx])\n",
    "    \n",
    "# Combine the selected feature indices from all measures\n",
    "selected_features = list(set(indices_chi2) | set(indices_mi) | set(indices_f_classif))\n",
    "\n",
    "# Get the top 10 features\n",
    "top_10_features = [data.feature_names[index] for index in selected_features[:10]]\n",
    "print(\"final top 10:\")\n",
    "for feature in top_10_features:\n",
    "    print(feature)"
   ]
  },
  {
   "cell_type": "markdown",
   "id": "a0b04dc5-82e7-4a25-9f83-bd1d7b8a7439",
   "metadata": {},
   "source": [
    "report score / accuracy with 2 methods"
   ]
  },
  {
   "cell_type": "code",
   "execution_count": null,
   "id": "fc107557-fd34-4adc-b350-eba80e43e6e3",
   "metadata": {},
   "outputs": [],
   "source": [
    "# Evaluate the pipeline on the test data\n",
    "y_pred = pipeline.predict(X_test)\n",
    "print(\"model score: %.3f\" % pipeline.score(X_test, y_test))\n",
    "\n",
    "sns.heatmap(confusion_matrix(y_test, y_pred), annot=True, cmap='Blues', fmt='g')\n",
    "plt.xlabel('predicted value')\n",
    "plt.ylabel('actual value')\n",
    "plt.xticks(np.arange(k)+1/k, labels)\n",
    "plt.yticks(np.arange(k)+1/k, labels)\n",
    "plt.show()"
   ]
  },
  {
   "cell_type": "code",
   "execution_count": null,
   "id": "87143134-4fd3-46ea-8b67-4bbb28c0b6d5",
   "metadata": {},
   "outputs": [],
   "source": [
    "%%time\n",
    "# Load the breast cancer dataset\n",
    "data = load_breast_cancer()\n",
    "X, y = data.data, data.target\n",
    "\n",
    "labels = data.target_names\n",
    "k = len(labels)\n",
    "\n",
    "def create_new_features(X):\n",
    "    X.shape\n",
    "    mean_radius_idx = 0  # the index of 'mean radius'\n",
    "    mean_diameter = X[:, mean_radius_idx] * 2\n",
    "    X = np.column_stack((X, mean_diameter))\n",
    "    mean_symmetry_idx = 8\n",
    "    worst_symmetry_idx = 28\n",
    "    symmetry_difference = X[:, worst_symmetry_idx] - X[:, mean_symmetry_idx]\n",
    "    X = np.column_stack((X, symmetry_difference))\n",
    "    return X\n",
    "\n",
    "# Define the transformers for numeric features\n",
    "numeric_features = [i for i, dtype in enumerate(data.feature_names)]\n",
    "numeric_transformer = Pipeline(\n",
    "    steps=[(\"scaler\", StandardScaler()), ('binning', KBinsDiscretizer(n_bins=4, encode='ordinal', strategy='uniform'))]\n",
    ")\n",
    "\n",
    "# Create the column transformer\n",
    "preprocessor = ColumnTransformer(\n",
    "    transformers=[\n",
    "        ('numeric', numeric_transformer, numeric_features)\n",
    "    ]\n",
    ")\n",
    "\n",
    "# Create SelectKBest instances for different measures\n",
    "kbest_chi2 = SelectKBest(score_func=chi2, k=10)\n",
    "kbest_mi = SelectKBest(score_func=mutual_info_classif, k=10)\n",
    "kbest_f_classif = SelectKBest(score_func=f_classif, k=10)\n",
    "\n",
    "# Create a FeatureUnion of the SelectKBest instances\n",
    "feature_union = FeatureUnion([\n",
    "    ('kbest_chi2', kbest_chi2),\n",
    "    ('kbest_mi', kbest_mi),\n",
    "    ('kbest_f_classif', kbest_f_classif)\n",
    "])\n",
    "\n",
    "# Create a pipeline with feature selection, feature engineering, preprocessing, and classifier\n",
    "pipeline = Pipeline([\n",
    "    ('feature_engineering', FunctionTransformer(create_new_features)),\n",
    "    ('preprocessor', preprocessor),\n",
    "    ('feature_selection', feature_union),\n",
    "    ('classifier', SVC())\n",
    "])\n",
    "\n",
    "# Split the dataset into train and test sets\n",
    "X_train, X_test, y_train, y_test = train_test_split(X, y, test_size=0.2, random_state=42)\n",
    "\n",
    "# Fit the pipeline to the training data\n",
    "pipeline.fit(X_train, y_train)\n",
    "y_pred = pipeline.predict(X_test)\n",
    "print(\"Model accuracy: %.3f\" % pipeline.score(X_test, y_test))\n",
    "\n",
    "sns.heatmap(confusion_matrix(y_test, y_pred), annot=True, cmap='Blues', fmt='g')\n",
    "plt.xlabel('Predicted value')\n",
    "plt.ylabel('Actual value')\n",
    "plt.xticks(np.arange(k)+1/k, labels)\n",
    "plt.yticks(np.arange(k)+1/k, labels)\n",
    "plt.show()\n"
   ]
  }
 ],
 "metadata": {
  "kernelspec": {
   "display_name": "Python 3 (ipykernel)",
   "language": "python",
   "name": "python3"
  },
  "language_info": {
   "codemirror_mode": {
    "name": "ipython",
    "version": 3
   },
   "file_extension": ".py",
   "mimetype": "text/x-python",
   "name": "python",
   "nbconvert_exporter": "python",
   "pygments_lexer": "ipython3",
   "version": "3.9.13"
  }
 },
 "nbformat": 4,
 "nbformat_minor": 5
}

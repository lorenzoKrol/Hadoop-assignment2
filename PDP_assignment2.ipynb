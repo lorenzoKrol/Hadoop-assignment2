{
 "cells": [
  {
   "cell_type": "markdown",
   "id": "badfcdf1-b01d-4a39-b741-0578d79b8e08",
   "metadata": {},
   "source": [
    "all imports"
   ]
  },
  {
   "cell_type": "code",
   "execution_count": 69,
   "id": "f6689155-b894-4a38-aa88-1dad44292fd5",
   "metadata": {},
   "outputs": [
    {
     "name": "stdout",
     "output_type": "stream",
     "text": [
      "seaborn already installed, only imported\n",
      "PyPlot already installed, only imported\n",
      "NumPy already installed, only imported\n",
      "sklearn already installed, only imported\n"
     ]
    }
   ],
   "source": [
    "try:\n",
    "    import seaborn as sns\n",
    "    print('seaborn already installed, only imported')\n",
    "except:\n",
    "    !pip install seaborn\n",
    "    import seaborn as sb\n",
    "    print('seaborn was not installed, installed and imported') \n",
    "    \n",
    "# pyplot as plt\n",
    "try:\n",
    "    import matplotlib.pyplot as plt\n",
    "    print('PyPlot already installed, only imported')\n",
    "except:\n",
    "    !pip install matplotlib\n",
    "    import matplotlib.pyplot as plt\n",
    "    print('PyPlot was not installed, installed and imported')\n",
    "# numpy as np\n",
    "try:\n",
    "    import numpy as np\n",
    "    print('NumPy already installed, only imported')\n",
    "except:\n",
    "    !pip install numpy\n",
    "    import numpy as np\n",
    "    print('NumPy was not installed, installed and imported')\n",
    "# sklearn\n",
    "try:\n",
    "    from sklearn.datasets import load_breast_cancer\n",
    "    from sklearn.model_selection import train_test_split\n",
    "    from sklearn.compose import ColumnTransformer\n",
    "    from sklearn.preprocessing import StandardScaler, OneHotEncoder\n",
    "    from sklearn.pipeline import Pipeline\n",
    "    from sklearn.svm import SVC\n",
    "    from sklearn.feature_selection import SelectKBest, chi2, mutual_info_classif, f_classif\n",
    "    from sklearn.metrics import confusion_matrix\n",
    "    from sklearn.preprocessing import FunctionTransformer\n",
    "    from sklearn.preprocessing import KBinsDiscretizer\n",
    "    print('sklearn already installed, only imported')\n",
    "except:\n",
    "    !pip install sklearn\n",
    "    from sklearn.datasets import load_breast_cancer\n",
    "    from sklearn.model_selection import train_test_split\n",
    "    from sklearn.compose import ColumnTransformer\n",
    "    from sklearn.preprocessing import StandardScaler, OneHotEncoder\n",
    "    from sklearn.pipeline import Pipeline\n",
    "    from sklearn.svm import SVC\n",
    "    from sklearn.feature_selection import SelectKBest, chi2, mutual_info_classif, f_classif\n",
    "    from sklearn.metrics import confusion_matrix\n",
    "    from sklearn.preprocessing import FunctionTransformer\n",
    "    from sklearn.preprocessing import KBinsDiscretizer\n",
    "    print('sklearn was not installed, installed and imported')  \n"
   ]
  },
  {
   "cell_type": "markdown",
   "id": "f5c781a3-1203-4e98-a6b6-a64d390542f6",
   "metadata": {},
   "source": [
    "Load dataset"
   ]
  },
  {
   "cell_type": "code",
   "execution_count": 70,
   "id": "4667444b-bf8a-4d21-a1be-03ebf78572d7",
   "metadata": {},
   "outputs": [],
   "source": [
    "data = load_breast_cancer()\n",
    "X, y = data.data, data.target\n",
    "\n",
    "labels = data.target_names\n",
    "k = len(labels)"
   ]
  },
  {
   "cell_type": "code",
   "execution_count": 71,
   "id": "bbe4678c-0dae-4356-ab67-5fa46bc9eb19",
   "metadata": {},
   "outputs": [
    {
     "name": "stdout",
     "output_type": "stream",
     "text": [
      ".. _breast_cancer_dataset:\n",
      "\n",
      "Breast cancer wisconsin (diagnostic) dataset\n",
      "--------------------------------------------\n",
      "\n",
      "**Data Set Characteristics:**\n",
      "\n",
      "    :Number of Instances: 569\n",
      "\n",
      "    :Number of Attributes: 30 numeric, predictive attributes and the class\n",
      "\n",
      "    :Attribute Information:\n",
      "        - radius (mean of distances from center to points on the perimeter)\n",
      "        - texture (standard deviation of gray-scale values)\n",
      "        - perimeter\n",
      "        - area\n",
      "        - smoothness (local variation in radius lengths)\n",
      "        - compactness (perimeter^2 / area - 1.0)\n",
      "        - concavity (severity of concave portions of the contour)\n",
      "        - concave points (number of concave portions of the contour)\n",
      "        - symmetry\n",
      "        - fractal dimension (\"coastline approximation\" - 1)\n",
      "\n",
      "        The mean, standard error, and \"worst\" or largest (mean of the three\n",
      "        worst/largest values) of these features were computed for each image,\n",
      "        resulting in 30 features.  For instance, field 0 is Mean Radius, field\n",
      "        10 is Radius SE, field 20 is Worst Radius.\n",
      "\n",
      "        - class:\n",
      "                - WDBC-Malignant\n",
      "                - WDBC-Benign\n",
      "\n",
      "    :Summary Statistics:\n",
      "\n",
      "    ===================================== ====== ======\n",
      "                                           Min    Max\n",
      "    ===================================== ====== ======\n",
      "    radius (mean):                        6.981  28.11\n",
      "    texture (mean):                       9.71   39.28\n",
      "    perimeter (mean):                     43.79  188.5\n",
      "    area (mean):                          143.5  2501.0\n",
      "    smoothness (mean):                    0.053  0.163\n",
      "    compactness (mean):                   0.019  0.345\n",
      "    concavity (mean):                     0.0    0.427\n",
      "    concave points (mean):                0.0    0.201\n",
      "    symmetry (mean):                      0.106  0.304\n",
      "    fractal dimension (mean):             0.05   0.097\n",
      "    radius (standard error):              0.112  2.873\n",
      "    texture (standard error):             0.36   4.885\n",
      "    perimeter (standard error):           0.757  21.98\n",
      "    area (standard error):                6.802  542.2\n",
      "    smoothness (standard error):          0.002  0.031\n",
      "    compactness (standard error):         0.002  0.135\n",
      "    concavity (standard error):           0.0    0.396\n",
      "    concave points (standard error):      0.0    0.053\n",
      "    symmetry (standard error):            0.008  0.079\n",
      "    fractal dimension (standard error):   0.001  0.03\n",
      "    radius (worst):                       7.93   36.04\n",
      "    texture (worst):                      12.02  49.54\n",
      "    perimeter (worst):                    50.41  251.2\n",
      "    area (worst):                         185.2  4254.0\n",
      "    smoothness (worst):                   0.071  0.223\n",
      "    compactness (worst):                  0.027  1.058\n",
      "    concavity (worst):                    0.0    1.252\n",
      "    concave points (worst):               0.0    0.291\n",
      "    symmetry (worst):                     0.156  0.664\n",
      "    fractal dimension (worst):            0.055  0.208\n",
      "    ===================================== ====== ======\n",
      "\n",
      "    :Missing Attribute Values: None\n",
      "\n",
      "    :Class Distribution: 212 - Malignant, 357 - Benign\n",
      "\n",
      "    :Creator:  Dr. William H. Wolberg, W. Nick Street, Olvi L. Mangasarian\n",
      "\n",
      "    :Donor: Nick Street\n",
      "\n",
      "    :Date: November, 1995\n",
      "\n",
      "This is a copy of UCI ML Breast Cancer Wisconsin (Diagnostic) datasets.\n",
      "https://goo.gl/U2Uwz2\n",
      "\n",
      "Features are computed from a digitized image of a fine needle\n",
      "aspirate (FNA) of a breast mass.  They describe\n",
      "characteristics of the cell nuclei present in the image.\n",
      "\n",
      "Separating plane described above was obtained using\n",
      "Multisurface Method-Tree (MSM-T) [K. P. Bennett, \"Decision Tree\n",
      "Construction Via Linear Programming.\" Proceedings of the 4th\n",
      "Midwest Artificial Intelligence and Cognitive Science Society,\n",
      "pp. 97-101, 1992], a classification method which uses linear\n",
      "programming to construct a decision tree.  Relevant features\n",
      "were selected using an exhaustive search in the space of 1-4\n",
      "features and 1-3 separating planes.\n",
      "\n",
      "The actual linear program used to obtain the separating plane\n",
      "in the 3-dimensional space is that described in:\n",
      "[K. P. Bennett and O. L. Mangasarian: \"Robust Linear\n",
      "Programming Discrimination of Two Linearly Inseparable Sets\",\n",
      "Optimization Methods and Software 1, 1992, 23-34].\n",
      "\n",
      "This database is also available through the UW CS ftp server:\n",
      "\n",
      "ftp ftp.cs.wisc.edu\n",
      "cd math-prog/cpo-dataset/machine-learn/WDBC/\n",
      "\n",
      ".. topic:: References\n",
      "\n",
      "   - W.N. Street, W.H. Wolberg and O.L. Mangasarian. Nuclear feature extraction \n",
      "     for breast tumor diagnosis. IS&T/SPIE 1993 International Symposium on \n",
      "     Electronic Imaging: Science and Technology, volume 1905, pages 861-870,\n",
      "     San Jose, CA, 1993.\n",
      "   - O.L. Mangasarian, W.N. Street and W.H. Wolberg. Breast cancer diagnosis and \n",
      "     prognosis via linear programming. Operations Research, 43(4), pages 570-577, \n",
      "     July-August 1995.\n",
      "   - W.H. Wolberg, W.N. Street, and O.L. Mangasarian. Machine learning techniques\n",
      "     to diagnose breast cancer from fine-needle aspirates. Cancer Letters 77 (1994) \n",
      "     163-171.\n"
     ]
    }
   ],
   "source": [
    "print(data.DESCR) "
   ]
  },
  {
   "cell_type": "markdown",
   "id": "ed015ac2-ea2a-40bb-9bba-ee8a113550a7",
   "metadata": {},
   "source": [
    "PreProcess data"
   ]
  },
  {
   "cell_type": "code",
   "execution_count": 72,
   "id": "abbf055a-e1de-41b7-9b4f-21763e043f0b",
   "metadata": {},
   "outputs": [],
   "source": [
    "# Define the transformers for numeric features\n",
    "numeric_features = [i for i, dtype in enumerate(data.feature_names)]\n",
    "numeric_transformer = Pipeline(\n",
    "        steps=[(\"scaler\",StandardScaler()),('binning', KBinsDiscretizer(n_bins=4, encode='ordinal', strategy='uniform')),\n",
    "])"
   ]
  },
  {
   "cell_type": "code",
   "execution_count": 73,
   "id": "8371c658-38ee-42fc-be90-6658254f6163",
   "metadata": {},
   "outputs": [],
   "source": [
    "# Create the column transformer\n",
    "preprocessor = ColumnTransformer(\n",
    "    transformers=[\n",
    "        ('numeric', numeric_transformer, numeric_features)])"
   ]
  },
  {
   "cell_type": "markdown",
   "id": "b3f601c2-2f62-4198-8e7b-be5df828e3c9",
   "metadata": {},
   "source": [
    "Create new features"
   ]
  },
  {
   "cell_type": "code",
   "execution_count": 74,
   "id": "e0d964ab-e65d-434b-b853-6a1148101bd0",
   "metadata": {},
   "outputs": [],
   "source": [
    "def create_new_features(X):\n",
    "    X.shape\n",
    "    mean_radius_idx = 0  # the index of 'mean radius'\n",
    "    mean_diameter = X[:, mean_radius_idx] * 2\n",
    "    X = np.column_stack((X, mean_diameter))\n",
    "    mean_symmetry_idx = 8\n",
    "    worst_symmetry_idx = 28\n",
    "    symmetry_difference = X[:, worst_symmetry_idx] - X[:,mean_symmetry_idx]\n",
    "    X = np.column_stack((X, symmetry_difference))\n",
    "    return X"
   ]
  },
  {
   "cell_type": "markdown",
   "id": "44077c5a-88dc-4ff1-9653-2d902db8f29b",
   "metadata": {},
   "source": [
    "make a prediction"
   ]
  },
  {
   "cell_type": "code",
   "execution_count": 75,
   "id": "d588620d-674d-4bce-8b28-3ca5b7a66dea",
   "metadata": {},
   "outputs": [
    {
     "name": "stdout",
     "output_type": "stream",
     "text": [
      "['malignant' 'benign']\n"
     ]
    }
   ],
   "source": [
    "print(labels)"
   ]
  },
  {
   "cell_type": "code",
   "execution_count": 76,
   "id": "7bdb7081-3f92-4fdb-b9a4-a34afdb8bf35",
   "metadata": {},
   "outputs": [
    {
     "name": "stdout",
     "output_type": "stream",
     "text": [
      "[1]\n"
     ]
    }
   ],
   "source": [
    "# Split the dataset into train and test sets\n",
    "X_train, X_test, y_train, y_test = train_test_split(X, y, test_size=0.2, random_state=42)\n",
    "\n",
    "\n",
    "# Create a pipeline with a scaler and an SVM classifier\n",
    "pipeline = Pipeline([\n",
    "    ('feature_engineering', FunctionTransformer(create_new_features)),\n",
    "    ('preprocessor', preprocessor),\n",
    "    ('classifier', SVC())\n",
    "])\n",
    "\n",
    "# Fit the pipeline to the training data\n",
    "pipeline.fit(X_train, y_train)\n",
    "y_pred = pipeline.predict(X_test[:1])\n",
    "print(y_pred)"
   ]
  },
  {
   "cell_type": "markdown",
   "id": "6d545e09-fe30-46da-9f04-fa572e327652",
   "metadata": {},
   "source": [
    "Top 10 features according to 3 different measures of predictiveness"
   ]
  },
  {
   "cell_type": "code",
   "execution_count": 77,
   "id": "c359dc3e-8875-4bcf-8c48-db2225ad7116",
   "metadata": {},
   "outputs": [
    {
     "name": "stdout",
     "output_type": "stream",
     "text": [
      "Top 10 features according to chi-square:\n",
      "mean radius\n",
      "mean texture\n",
      "mean perimeter\n",
      "mean area\n",
      "perimeter error\n",
      "area error\n",
      "worst radius\n",
      "worst texture\n",
      "worst perimeter\n",
      "worst area\n",
      "Top 10 features according to mutual information:\n",
      "mean radius\n",
      "mean perimeter\n",
      "mean area\n",
      "mean concavity\n",
      "mean concave points\n",
      "area error\n",
      "worst radius\n",
      "worst perimeter\n",
      "worst area\n",
      "worst concave points\n",
      "Top 10 features according to f_classif:\n",
      "mean radius\n",
      "mean perimeter\n",
      "mean area\n",
      "mean concavity\n",
      "mean concave points\n",
      "worst radius\n",
      "worst perimeter\n",
      "worst area\n",
      "worst concavity\n",
      "worst concave points\n",
      "final top 10:\n",
      "mean radius\n",
      "mean texture\n",
      "mean perimeter\n",
      "mean area\n",
      "mean concavity\n",
      "mean concave points\n",
      "perimeter error\n",
      "area error\n",
      "worst radius\n",
      "worst texture\n"
     ]
    }
   ],
   "source": [
    "# Define a function to create the pipeline with feature selection\n",
    "def create_feature_selection_pipeline(selector):\n",
    "    return Pipeline([\n",
    "        ('feature_selection', selector),\n",
    "        ('classifier', SVC())\n",
    "    ])\n",
    "\n",
    "# Create SelectKBest instances for different measures\n",
    "kbest_chi2 = SelectKBest(score_func=chi2, k=10)\n",
    "kbest_mi = SelectKBest(score_func=mutual_info_classif, k=10)\n",
    "kbest_f_classif = SelectKBest(score_func=f_classif, k=10)\n",
    "\n",
    "# Create pipelines with feature selection and classifier\n",
    "pipeline_chi2 = create_feature_selection_pipeline(kbest_chi2)\n",
    "pipeline_mi = create_feature_selection_pipeline(kbest_mi)\n",
    "pipeline_f_classif = create_feature_selection_pipeline(kbest_f_classif)\n",
    "\n",
    "\n",
    "# Fit the pipelines to the data\n",
    "pipeline_chi2.fit(X, y)\n",
    "pipeline_mi.fit(X, y)\n",
    "pipeline_f_classif.fit(X, y)\n",
    "\n",
    "# Get the indices of the top 10 features for each measure\n",
    "indices_chi2 = kbest_chi2.get_support(indices=True)\n",
    "indices_mi = kbest_mi.get_support(indices=True)\n",
    "indices_f_classif = kbest_f_classif.get_support(indices=True)\n",
    "# Get the feature names\n",
    "feature_names = data.feature_names\n",
    "\n",
    "# Print the top 10 features for each measure\n",
    "print(\"Top 10 features according to chi-square:\")\n",
    "for idx in indices_chi2:\n",
    "    print(feature_names[idx])\n",
    "\n",
    "print(\"Top 10 features according to mutual information:\")\n",
    "for idx in indices_mi:\n",
    "    print(feature_names[idx])\n",
    "\n",
    "print(\"Top 10 features according to f_classif:\")\n",
    "for idx in indices_f_classif:\n",
    "    print(feature_names[idx])\n",
    "    \n",
    "# Combine the selected feature indices from all measures\n",
    "selected_features = list(set(indices_chi2) | set(indices_mi) | set(indices_f_classif))\n",
    "\n",
    "# Get the top 10 features\n",
    "top_10_features = [data.feature_names[index] for index in selected_features[:10]]\n",
    "print(\"final top 10:\")\n",
    "for feature in top_10_features:\n",
    "    print(feature)"
   ]
  },
  {
   "cell_type": "markdown",
   "id": "a0b04dc5-82e7-4a25-9f83-bd1d7b8a7439",
   "metadata": {},
   "source": [
    "report score / accuracy with 2 methods"
   ]
  },
  {
   "cell_type": "code",
   "execution_count": 79,
   "id": "87143134-4fd3-46ea-8b67-4bbb28c0b6d5",
   "metadata": {},
   "outputs": [
    {
     "name": "stdout",
     "output_type": "stream",
     "text": [
      "Model accuracy: 0.947\n"
     ]
    },
    {
     "data": {
      "image/png": "[encoded data removed]",
      "text/plain": [
       "<Figure size 640x480 with 2 Axes>"
      ]
     },
     "metadata": {},
     "output_type": "display_data"
    },
    {
     "name": "stdout",
     "output_type": "stream",
     "text": [
      "Wall time: 202 ms\n"
     ]
    }
   ],
   "source": [
    "%%time\n",
    "# Load the breast cancer dataset\n",
    "data = load_breast_cancer()\n",
    "X, y = data.data, data.target\n",
    "\n",
    "labels = data.target_names\n",
    "k = len(labels)\n",
    "\n",
    "def create_new_features(X):\n",
    "    X.shape\n",
    "    mean_radius_idx = 0  # the index of 'mean radius'\n",
    "    mean_diameter = X[:, mean_radius_idx] * 2\n",
    "    X = np.column_stack((X, mean_diameter))\n",
    "    mean_symmetry_idx = 8\n",
    "    worst_symmetry_idx = 28\n",
    "    symmetry_difference = X[:, worst_symmetry_idx] - X[:, mean_symmetry_idx]\n",
    "    X = np.column_stack((X, symmetry_difference))\n",
    "    return X\n",
    "\n",
    "# Define the transformers for numeric features\n",
    "numeric_features = [i for i, dtype in enumerate(data.feature_names)]\n",
    "numeric_transformer = Pipeline(\n",
    "    steps=[(\"scaler\", StandardScaler()), ('binning', KBinsDiscretizer(n_bins=4, encode='ordinal', strategy='uniform'))]\n",
    ")\n",
    "\n",
    "# Create the column transformer\n",
    "preprocessor = ColumnTransformer(\n",
    "    transformers=[\n",
    "        ('numeric', numeric_transformer, numeric_features)\n",
    "    ]\n",
    ")\n",
    "\n",
    "# Create SelectKBest instances for different measures\n",
    "kbest_chi2 = SelectKBest(score_func=chi2, k=10)\n",
    "kbest_mi = SelectKBest(score_func=mutual_info_classif, k=10)\n",
    "kbest_f_classif = SelectKBest(score_func=f_classif, k=10)\n",
    "\n",
    "# Create a FeatureUnion of the SelectKBest instances\n",
    "feature_union = FeatureUnion([\n",
    "    ('kbest_chi2', kbest_chi2),\n",
    "    ('kbest_mi', kbest_mi),\n",
    "    ('kbest_f_classif', kbest_f_classif)\n",
    "])\n",
    "\n",
    "# Create a pipeline with feature selection, feature engineering, preprocessing, and classifier\n",
    "pipeline = Pipeline([\n",
    "    ('feature_engineering', FunctionTransformer(create_new_features)),\n",
    "    ('preprocessor', preprocessor),\n",
    "    ('feature_selection', feature_union),\n",
    "    ('classifier', SVC())\n",
    "])\n",
    "\n",
    "# Split the dataset into train and test sets\n",
    "X_train, X_test, y_train, y_test = train_test_split(X, y, test_size=0.2, random_state=42)\n",
    "\n",
    "# Fit the pipeline to the training data\n",
    "pipeline.fit(X_train, y_train)\n",
    "y_pred = pipeline.predict(X_test)\n",
    "print(\"Model accuracy: %.3f\" % pipeline.score(X_test, y_test))\n",
    "\n",
    "sns.heatmap(confusion_matrix(y_test, y_pred), annot=True, cmap='Blues', fmt='g')\n",
    "plt.xlabel('Predicted value')\n",
    "plt.ylabel('Actual value')\n",
    "plt.xticks(np.arange(k)+1/k, labels)\n",
    "plt.yticks(np.arange(k)+1/k, labels)\n",
    "plt.show()\n"
   ]
  }
 ],
 "metadata": {
  "kernelspec": {
   "display_name": "Python 3 (ipykernel)",
   "language": "python",
   "name": "python3"
  },
  "language_info": {
   "codemirror_mode": {
    "name": "ipython",
    "version": 3
   },
   "file_extension": ".py",
   "mimetype": "text/x-python",
   "name": "python",
   "nbconvert_exporter": "python",
   "pygments_lexer": "ipython3",
   "version": "3.9.13"
  }
 },
 "nbformat": 4,
 "nbformat_minor": 5
}
